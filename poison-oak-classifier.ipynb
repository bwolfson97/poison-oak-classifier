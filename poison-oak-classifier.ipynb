{
 "cells": [
  {
   "cell_type": "code",
   "execution_count": 4,
   "metadata": {},
   "outputs": [],
   "source": [
    "from fastai2.vision.all import load_learner, PILImage\n",
    "from fastai2.vision.widgets import FileUpload, Label, Output, Button, VBox\n",
    "from IPython.display import display"
   ]
  },
  {
   "cell_type": "code",
   "execution_count": 10,
   "metadata": {},
   "outputs": [
    {
     "name": "stdout",
     "output_type": "stream",
     "text": [
      "Downloading...\n",
      "From: https://drive.google.com/uc?id=1dIasg5zm0ZdTHLmjkwgIZrpit7LbKwCn\n",
      "To: /notebooks/personal-projects/poison-oak-classifier-app/poison-oak-classifier.pkl\n",
      "140MB [00:02, 57.6MB/s] \n"
     ]
    }
   ],
   "source": [
    "# Load model\n",
    "model_inf = load_learner('poison-oak-classifier.pkl')"
   ]
  },
  {
   "cell_type": "code",
   "execution_count": 11,
   "metadata": {},
   "outputs": [],
   "source": [
    "# Create widgets\n",
    "uploader = FileUpload()\n",
    "label = Label()\n",
    "output = Output()\n",
    "button = Button(description='Classify!')"
   ]
  },
  {
   "cell_type": "code",
   "execution_count": 12,
   "metadata": {},
   "outputs": [],
   "source": [
    "# Define widget actions on click\n",
    "def on_click(click):\n",
    "    output.clear_output()\n",
    "    img = PILImage.create(uploader.data[-1])\n",
    "    pred, idx, probs = model_inf.predict(img)\n",
    "    with output: display(img.to_thumb(200))\n",
    "    \n",
    "    # Correct leaves label to be more specific\n",
    "    pred = 'not poison oak' if pred == 'leaves' else pred\n",
    "    label.value = f'This is {pred} with probability: {probs[idx]*100:0.0f}%.'\n",
    "button.on_click(on_click)"
   ]
  },
  {
   "cell_type": "markdown",
   "metadata": {},
   "source": [
    "# Poison Oak Classifier!\n",
    "Wondering if a leaf you see is poison oak? Upload an image to this classifier to find out! \n",
    "\n",
    "Note, the classifier's **recall** is better than its **precision**, which essentially means the classifier errs on the side of caution. It'll pick up most poison oak, but it'll also classify some normal leaves mistakenly as poison oak. Aka, it's following the rule \"Better Safe Than Sorry!\""
   ]
  },
  {
   "cell_type": "code",
   "execution_count": 13,
   "metadata": {},
   "outputs": [
    {
     "data": {
      "application/vnd.jupyter.widget-view+json": {
       "model_id": "3ad45a7d3af24c568bac7ca06f5069da",
       "version_major": 2,
       "version_minor": 0
      },
      "text/plain": [
       "VBox(children=(Label(value='See if a leaf is poison oak or not! :D'), FileUpload(value={}, description='Upload…"
      ]
     },
     "metadata": {},
     "output_type": "display_data"
    },
    {
     "data": {
      "text/html": [],
      "text/plain": [
       "<IPython.core.display.HTML object>"
      ]
     },
     "metadata": {},
     "output_type": "display_data"
    },
    {
     "data": {
      "text/html": [],
      "text/plain": [
       "<IPython.core.display.HTML object>"
      ]
     },
     "metadata": {},
     "output_type": "display_data"
    }
   ],
   "source": [
    "VBox([Label('See if a leaf is poison oak or not! :D'), uploader, button, output, label])"
   ]
  },
  {
   "cell_type": "code",
   "execution_count": null,
   "metadata": {},
   "outputs": [],
   "source": []
  }
 ],
 "metadata": {
  "kernelspec": {
   "display_name": "Python 3",
   "language": "python",
   "name": "python3"
  },
  "language_info": {
   "codemirror_mode": {
    "name": "ipython",
    "version": 3
   },
   "file_extension": ".py",
   "mimetype": "text/x-python",
   "name": "python",
   "nbconvert_exporter": "python",
   "pygments_lexer": "ipython3",
   "version": "3.7.6"
  }
 },
 "nbformat": 4,
 "nbformat_minor": 4
}
